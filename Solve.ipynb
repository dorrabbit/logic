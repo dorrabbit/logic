{
 "cells": [
  {
   "cell_type": "code",
   "execution_count": 24,
   "metadata": {
    "collapsed": false
   },
   "outputs": [],
   "source": [
    "import pandas as pd\n",
    "import numpy as np\n",
    "\n",
    "class Banmen:\n",
    "    ban = np.empty((1,1))\n",
    "    def __init__(self, tatenum, yokonum):\n",
    "        self.ban = np.zeros((tatenum+2, yokonum+2))\n",
    "        #枠の作成\n",
    "        self.ban[0] = -1\n",
    "        self.ban[tatenum+1] = -1\n",
    "        for i in range(yokonum+2):\n",
    "            self.ban[i, 0] = -1\n",
    "            self.ban[i, yokonum+1] = -1\n",
    "    \n",
    "    def check(self):\n",
    "        return self.ban\n",
    "    \n",
    "    def kakutei(self, start_loc, num, tateyoko, shirokuro):\n",
    "        #start_loc is [1,1]~\n",
    "        start_gyo = start_loc[0]\n",
    "        start_retsu = start_loc[1]\n",
    "        #num is the number of kakutei cell\n",
    "        #tateyoko=0 yoko, 1 tate\n",
    "        #shirokuro=-1 shiro, 1 kuro\n",
    "        if tateyoko==0:\n",
    "            for i in range(num):\n",
    "                self.ban[start_gyo, start_retsu+i] = shirokuro\n",
    "        elif tateyoko==1:\n",
    "            for i in range(num):\n",
    "                self.ban[start_gyo+i, start_retsu] = shirokuro\n",
    "                \n",
    "    def aki(self, "
   ]
  },
  {
   "cell_type": "code",
   "execution_count": 25,
   "metadata": {
    "collapsed": false
   },
   "outputs": [],
   "source": [
    "exp = Banmen(5,5)"
   ]
  },
  {
   "cell_type": "code",
   "execution_count": 26,
   "metadata": {
    "collapsed": false
   },
   "outputs": [
    {
     "data": {
      "text/plain": [
       "array([[-1., -1., -1., -1., -1., -1., -1.],\n",
       "       [-1.,  0.,  0.,  0.,  0.,  0., -1.],\n",
       "       [-1.,  0.,  0.,  0.,  0.,  0., -1.],\n",
       "       [-1.,  0.,  0.,  0.,  0.,  0., -1.],\n",
       "       [-1.,  0.,  0.,  0.,  0.,  0., -1.],\n",
       "       [-1.,  0.,  0.,  0.,  0.,  0., -1.],\n",
       "       [-1., -1., -1., -1., -1., -1., -1.]])"
      ]
     },
     "execution_count": 26,
     "metadata": {},
     "output_type": "execute_result"
    }
   ],
   "source": [
    "exp.check()"
   ]
  },
  {
   "cell_type": "code",
   "execution_count": 27,
   "metadata": {
    "collapsed": false
   },
   "outputs": [
    {
     "data": {
      "text/plain": [
       "array([[-1., -1., -1., -1., -1., -1., -1.],\n",
       "       [-1.,  0.,  1.,  0.,  0.,  0., -1.],\n",
       "       [-1.,  0.,  1.,  0.,  0.,  0., -1.],\n",
       "       [-1.,  0.,  0.,  0.,  0.,  0., -1.],\n",
       "       [-1.,  0.,  0.,  0.,  0.,  0., -1.],\n",
       "       [-1.,  0.,  0.,  0.,  0.,  0., -1.],\n",
       "       [-1., -1., -1., -1., -1., -1., -1.]])"
      ]
     },
     "execution_count": 27,
     "metadata": {},
     "output_type": "execute_result"
    }
   ],
   "source": [
    "exp.kakutei([1,2], 2 ,1, 1)\n",
    "exp.check()"
   ]
  },
  {
   "cell_type": "code",
   "execution_count": 28,
   "metadata": {
    "collapsed": false
   },
   "outputs": [
    {
     "data": {
      "text/plain": [
       "array([[-1., -1., -1., -1., -1., -1., -1.],\n",
       "       [-1.,  0.,  1., -1., -1., -1., -1.],\n",
       "       [-1.,  0.,  1.,  0.,  0.,  0., -1.],\n",
       "       [-1.,  0.,  0.,  0.,  0.,  0., -1.],\n",
       "       [-1.,  0.,  0.,  0.,  0.,  0., -1.],\n",
       "       [-1.,  0.,  0.,  0.,  0.,  0., -1.],\n",
       "       [-1., -1., -1., -1., -1., -1., -1.]])"
      ]
     },
     "execution_count": 28,
     "metadata": {},
     "output_type": "execute_result"
    }
   ],
   "source": [
    "exp.kakutei([1,3], 3, 0, -1)\n",
    "exp.check()"
   ]
  },
  {
   "cell_type": "code",
   "execution_count": null,
   "metadata": {
    "collapsed": true
   },
   "outputs": [],
   "source": []
  }
 ],
 "metadata": {
  "kernelspec": {
   "display_name": "Python [conda env:anaconda3-4.2.0]",
   "language": "python",
   "name": "conda-env-anaconda3-4.2.0-py"
  },
  "language_info": {
   "codemirror_mode": {
    "name": "ipython",
    "version": 3
   },
   "file_extension": ".py",
   "mimetype": "text/x-python",
   "name": "python",
   "nbconvert_exporter": "python",
   "pygments_lexer": "ipython3",
   "version": "3.5.2"
  }
 },
 "nbformat": 4,
 "nbformat_minor": 1
}
