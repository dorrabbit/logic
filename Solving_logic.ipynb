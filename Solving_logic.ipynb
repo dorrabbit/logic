{
 "cells": [
  {
   "cell_type": "code",
   "execution_count": 1,
   "metadata": {
    "collapsed": true
   },
   "outputs": [],
   "source": [
    "import numpy as np"
   ]
  },
  {
   "cell_type": "code",
   "execution_count": 10,
   "metadata": {
    "collapsed": false
   },
   "outputs": [],
   "source": [
    "keys_tate = [[3,1,13],[3,1,13],[3,1,13],[6,13],[3,15],\n",
    "             [20],[1,18],[20],[3,1,13],[2,1,13],[2,1,7,1,2],[3,8,1,2],[3,1,5,1,2],\n",
    "            [12,1,2],[10,6],[11,7],[3,15],[3,1,13],[3,1,13],[3,1,13]]"
   ]
  },
  {
   "cell_type": "code",
   "execution_count": 11,
   "metadata": {
    "collapsed": false
   },
   "outputs": [],
   "source": [
    "keys_yoko = [[9,3,4],[6,7,5],[20],[1,3,3],[1,3,3],[20],[4,1,4],[20],[20],[20],[20],[20],[12,4],[11,5],[10,6],[10,6],\n",
    "            [20],[10,6],[20],[20]]"
   ]
  },
  {
   "cell_type": "code",
   "execution_count": 12,
   "metadata": {
    "collapsed": false
   },
   "outputs": [],
   "source": [
    "tatenum=len(keys_yoko)\n",
    "yokonum=len(keys_tate)"
   ]
  },
  {
   "cell_type": "code",
   "execution_count": 24,
   "metadata": {
    "collapsed": false
   },
   "outputs": [],
   "source": [
    "def mannaka(num, key):\n",
    "    #num=枠の大きさ\n",
    "    kuro=[]\n",
    "    hitsuyouhaba = sum(key)+len(key)-1\n",
    "    ugokishiro = num - hitsuyouhaba\n",
    "    for i in range(len(key)):\n",
    "        if key[i] > ugokishiro:\n",
    "            kuro.append(key[i]-ugokishiro)\n",
    "        else:\n",
    "            kuro.append(0)\n",
    "    return kuro"
   ]
  },
  {
   "cell_type": "code",
   "execution_count": 26,
   "metadata": {
    "collapsed": false
   },
   "outputs": [
    {
     "data": {
      "text/plain": [
       "[20]"
      ]
     },
     "execution_count": 26,
     "metadata": {},
     "output_type": "execute_result"
    }
   ],
   "source": [
    "mannaka(20, key_yoko[19])"
   ]
  },
  {
   "cell_type": "code",
   "execution_count": 48,
   "metadata": {
    "collapsed": true
   },
   "outputs": [],
   "source": [
    "import Banmen"
   ]
  },
  {
   "cell_type": "code",
   "execution_count": 49,
   "metadata": {
    "collapsed": false
   },
   "outputs": [],
   "source": [
    "estar = Banmen.Banmen(20,20)"
   ]
  },
  {
   "cell_type": "code",
   "execution_count": 50,
   "metadata": {
    "collapsed": false
   },
   "outputs": [
    {
     "ename": "AttributeError",
     "evalue": "'Banmen' object has no attribute 'ban_check'",
     "output_type": "error",
     "traceback": [
      "\u001b[0;31m---------------------------------------------------------------------------\u001b[0m",
      "\u001b[0;31mAttributeError\u001b[0m                            Traceback (most recent call last)",
      "\u001b[0;32m<ipython-input-50-bd6183a76c9b>\u001b[0m in \u001b[0;36m<module>\u001b[0;34m()\u001b[0m\n\u001b[0;32m----> 1\u001b[0;31m \u001b[0mestar\u001b[0m\u001b[0;34m.\u001b[0m\u001b[0mban_check\u001b[0m\u001b[0;34m(\u001b[0m\u001b[0;34m)\u001b[0m\u001b[0;34m\u001b[0m\u001b[0m\n\u001b[0m",
      "\u001b[0;31mAttributeError\u001b[0m: 'Banmen' object has no attribute 'ban_check'"
     ]
    }
   ],
   "source": [
    "estar.ban_check()"
   ]
  },
  {
   "cell_type": "code",
   "execution_count": null,
   "metadata": {
    "collapsed": true
   },
   "outputs": [],
   "source": []
  }
 ],
 "metadata": {
  "anaconda-cloud": {},
  "kernelspec": {
   "display_name": "Python [conda env:anaconda3-4.2.0]",
   "language": "python",
   "name": "conda-env-anaconda3-4.2.0-py"
  },
  "language_info": {
   "codemirror_mode": {
    "name": "ipython",
    "version": 3
   },
   "file_extension": ".py",
   "mimetype": "text/x-python",
   "name": "python",
   "nbconvert_exporter": "python",
   "pygments_lexer": "ipython3",
   "version": "3.5.2"
  }
 },
 "nbformat": 4,
 "nbformat_minor": 1
}
